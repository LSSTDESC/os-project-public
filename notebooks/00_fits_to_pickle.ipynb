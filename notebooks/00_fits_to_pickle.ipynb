{
 "cells": [
  {
   "cell_type": "markdown",
   "id": "dramatic-robert",
   "metadata": {},
   "source": [
    "# Transform `.FITS` to `.pckl`\n",
    "\n",
    "In this notebook we exemplify how to transform `SNANA` `.FITS` files that include both training and test data into `.pckl` pickle files that only include one type of data. Posteriory, these pickle files will be used to create `SnanaData` files.\n",
    "\n",
    "#### Index<a name=\"index\"></a>\n",
    "1. [Import packages](#imports)\n",
    "2. [Preprocess Data](#preprocess)\n",
    "3. [Load Data](#load) <font color=salmon>(Optional)</font>\n",
    "\n",
    "## 1. Import packages<a name=\"imports\"></a>"
   ]
  },
  {
   "cell_type": "code",
   "execution_count": null,
   "id": "preceding-mixture",
   "metadata": {},
   "outputs": [],
   "source": [
    "!pip install ../snmachine/"
   ]
  },
  {
   "cell_type": "code",
   "execution_count": null,
   "id": "continuous-disabled",
   "metadata": {},
   "outputs": [],
   "source": [
    "import os\n",
    "import pickle"
   ]
  },
  {
   "cell_type": "code",
   "execution_count": null,
   "id": "different-chemistry",
   "metadata": {},
   "outputs": [],
   "source": [
    "from snmachine import sndata"
   ]
  },
  {
   "cell_type": "code",
   "execution_count": null,
   "id": "ecological-association",
   "metadata": {},
   "outputs": [],
   "source": [
    "%config Completer.use_jedi = False  # activate autocomplete "
   ]
  },
  {
   "cell_type": "markdown",
   "id": "informal-surrey",
   "metadata": {},
   "source": [
    "## 2. Dataset paths<a name=\"paths\"></a>\n",
    "\n",
    "First, we need to **write** in `data_folders` the paths to the folders that contain all the `.FITS` files to include. These can be downloaded from zenodo."
   ]
  },
  {
   "cell_type": "code",
   "execution_count": null,
   "id": "upper-charter",
   "metadata": {},
   "outputs": [],
   "source": [
    "# First select which observing strategy to use\n",
    "os_name = 'baseline_v2_0_paper'\n",
    "#os_name = 'noroll_v2_0_paper'\n",
    "# os_name = 'presto_v2_0_paper'\n",
    "\n",
    "folder_name = 'folder/name'\n",
    "\n",
    "main_data_folder = 'path/to/files'\n",
    "\n",
    "data_folders = [os.path.join(main_data_folder, f'{folder_name}_SNIa-SALT2'),\n",
    "                os.path.join(main_data_folder, f'{folder_name}_SNIb-Templates'),\n",
    "                os.path.join(main_data_folder, f'{folder_name}_SNIc-Templates'),\n",
    "                os.path.join(main_data_folder, f'{folder_name}_SNII-NMF'),\n",
    "                os.path.join(main_data_folder, f'{folder_name}_SNIIn-MOSFIT'),\n",
    "                os.path.join(main_data_folder, f'{folder_name}_SNII-Templates')]"
   ]
  },
  {
   "cell_type": "markdown",
   "id": "historic-rebound",
   "metadata": {},
   "source": [
    "## 2. Preprocess Data<a name=\"preprocess\"></a>\n",
    "\n",
    "The preprocessing includes separating the data into train and test, and dividing them into chunks.\n",
    "\n",
    "First, initialize the preprocessing instance."
   ]
  },
  {
   "cell_type": "code",
   "execution_count": null,
   "id": "under-discretion",
   "metadata": {},
   "outputs": [],
   "source": [
    "preprocess = sndata.PreprocessSnana(data_folders=data_folders)"
   ]
  },
  {
   "cell_type": "markdown",
   "id": "distinct-measurement",
   "metadata": {},
   "source": [
    "Then, choose:\n",
    "- `number_train_test_files`: Number of files in which to divide the train and test data\n",
    "- `path_to_save`: Path to save the `.csv` files containing the preprocessed data\n",
    "- `extra_name_to_save`: Additional name for the file to be saved (`train`/`test` and `metadata` are always included). By default, no name is added. However, it is recommended to add names such as `DDF`/`WFD`."
   ]
  },
  {
   "cell_type": "code",
   "execution_count": null,
   "id": "senior-crash",
   "metadata": {},
   "outputs": [],
   "source": [
    "number_train_test_files = [1, 1]  # train, test DDF\n",
    "# number_train_test_files = [1, 13]  # train, test WFD\n",
    "path_to_save = main_data_folder\n",
    "\n",
    "extra_name_to_save = 'WFD'"
   ]
  },
  {
   "cell_type": "code",
   "execution_count": null,
   "id": "institutional-things",
   "metadata": {},
   "outputs": [],
   "source": [
    "path_to_save = '/path/to/save'"
   ]
  },
  {
   "cell_type": "code",
   "execution_count": null,
   "id": "prompt-mountain",
   "metadata": {},
   "outputs": [],
   "source": [
    "preprocess.preprocess_data(number_train_test_files=number_train_test_files, \n",
    "                           path_to_save=path_to_save,\n",
    "                           extra_name_to_save=extra_name_to_save)"
   ]
  },
  {
   "cell_type": "markdown",
   "id": "brown-intermediate",
   "metadata": {},
   "source": [
    "## 3. Load Data<a name=\"load\"></a> <font color=salmon>(Optional)</font>\n",
    "\n",
    "We can load one of the saved files to verify weather it was correctly saved."
   ]
  },
  {
   "cell_type": "code",
   "execution_count": null,
   "id": "hidden-waste",
   "metadata": {},
   "outputs": [],
   "source": [
    "path_data = os.path.join(path_to_save, f'file_test_{extra_name_to_save}_000.pckl')\n",
    "with open(path_data, 'rb') as input:\n",
    "    data = pickle.load(input)  # list of astropy tables"
   ]
  },
  {
   "cell_type": "code",
   "execution_count": null,
   "id": "fresh-martial",
   "metadata": {},
   "outputs": [],
   "source": [
    "path_metadata = os.path.join(path_to_save, f'file_test_{extra_name_to_save}_metadata_000.pckl')\n",
    "with open(path_metadata, 'rb') as input:\n",
    "    metadata = pickle.load(input)  # list of astropy tables"
   ]
  },
  {
   "cell_type": "markdown",
   "id": "infrared-pricing",
   "metadata": {},
   "source": [
    "[Go back to top.](#index)"
   ]
  }
 ],
 "metadata": {
  "kernelspec": {
   "display_name": "Python 3",
   "language": "python",
   "name": "python3"
  },
  "language_info": {
   "codemirror_mode": {
    "name": "ipython",
    "version": 3
   },
   "file_extension": ".py",
   "mimetype": "text/x-python",
   "name": "python",
   "nbconvert_exporter": "python",
   "pygments_lexer": "ipython3",
   "version": "3.7.9"
  }
 },
 "nbformat": 4,
 "nbformat_minor": 5
}
