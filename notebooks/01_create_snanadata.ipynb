{
 "cells": [
  {
   "cell_type": "markdown",
   "id": "accessory-drove",
   "metadata": {},
   "source": [
    "# Create SnanaData\n",
    "\n",
    "In this notebook we exemplify how to load data into `snmachine`. For that we will create an instance of the `SnanaData` class from `.csv` files.\n",
    "\n",
    "#### Index<a name=\"index\"></a>\n",
    "1. [Import packages](#imports)\n",
    "2. [Dataset paths](#paths)\n",
    "3. [Create SnanaData instance](#createZtf)\n",
    "4. [Save SnanaData instance](#save)\n",
    "    1. [Load SnanaData instance](#load) <font color=salmon>(Optional)</font>\n",
    "\n",
    "## 1. Import packages<a name=\"imports\"></a>"
   ]
  },
  {
   "cell_type": "code",
   "execution_count": null,
   "id": "explicit-contribution",
   "metadata": {},
   "outputs": [],
   "source": [
    "!pip install ../snmachine/"
   ]
  },
  {
   "cell_type": "code",
   "execution_count": null,
   "id": "present-strand",
   "metadata": {},
   "outputs": [],
   "source": [
    "import os\n",
    "import pickle\n",
    "import time"
   ]
  },
  {
   "cell_type": "code",
   "execution_count": null,
   "id": "monthly-glenn",
   "metadata": {},
   "outputs": [],
   "source": [
    "import numpy as np\n",
    "import pandas as pd"
   ]
  },
  {
   "cell_type": "code",
   "execution_count": null,
   "id": "arranged-exclusive",
   "metadata": {},
   "outputs": [],
   "source": [
    "from snmachine import sndata\n",
    "from utils.plasticc_pipeline import get_directories, load_dataset"
   ]
  },
  {
   "cell_type": "code",
   "execution_count": null,
   "id": "noticed-compact",
   "metadata": {},
   "outputs": [],
   "source": [
    "%config Completer.use_jedi = False  # enable autocomplete"
   ]
  },
  {
   "cell_type": "markdown",
   "id": "thirty-rates",
   "metadata": {},
   "source": [
    "## 2. Dataset paths<a name=\"paths\"></a>\n",
    "\n",
    "First, we need to **write** the path to the folder where the dataset and metadata are, `folder_path`."
   ]
  },
  {
   "cell_type": "code",
   "execution_count": null,
   "id": "psychological-beaver",
   "metadata": {},
   "outputs": [],
   "source": [
    "#os_name = 'baseline_v2_0_paper'\n",
    "#os_name = 'noroll_v2_0_paper'\n",
    "#os_name = 'presto_v2_0_paper'\n",
    "\n",
    "folder_path = '/folder/path'"
   ]
  },
  {
   "cell_type": "markdown",
   "id": "adaptive-hanging",
   "metadata": {},
   "source": [
    "Then, **write** the name of the dataset and its metadata, respectively `data_file_name` and `metadata_file_name`."
   ]
  },
  {
   "cell_type": "code",
   "execution_count": null,
   "id": "statewide-singer",
   "metadata": {},
   "outputs": [],
   "source": [
    "extra_name_to_save = 'ddf'\n",
    "#extra_name_to_save = 'wfd'\n",
    "\n",
    "name = 'train'\n",
    "#name = 'test'\n",
    "\n",
    "file_id = '000'\n",
    "#file_id = '012' # until 012\n",
    "\n",
    "data_file_name = f'file_{name}_{extra_name_to_save}_{file_id}.pckl'\n",
    "metadata_file_name = f'file_{name}_{extra_name_to_save}_metadata_{file_id}.pckl'"
   ]
  },
  {
   "cell_type": "markdown",
   "id": "sharp-citation",
   "metadata": {},
   "source": [
    "## 3. Create SnanaData instance<a name=\"createSnana\"></a>\n",
    "\n",
    "We now create a `SnanaData` instance. The different datasets take different ammount of time to run."
   ]
  },
  {
   "cell_type": "code",
   "execution_count": null,
   "id": "atomic-walnut",
   "metadata": {
    "scrolled": false
   },
   "outputs": [],
   "source": [
    "dataset = sndata.SnanaData(folder=folder_path, data_file=data_file_name,\n",
    "                           metadata_file=metadata_file_name, survey_name='lsst',\n",
    "                           pb_wavelengths=sndata.default_pb_wavelengths['lsst'])"
   ]
  },
  {
   "cell_type": "markdown",
   "id": "differential-uzbekistan",
   "metadata": {},
   "source": [
    "Add a metadata entry to say it is DDF or WFD."
   ]
  },
  {
   "cell_type": "code",
   "execution_count": null,
   "id": "three-perspective",
   "metadata": {},
   "outputs": [],
   "source": [
    "is_ddf = extra_name_to_save == 'ddf'\n",
    "dataset.metadata['ddf'] = is_ddf"
   ]
  },
  {
   "cell_type": "code",
   "execution_count": null,
   "id": "concerned-sierra",
   "metadata": {},
   "outputs": [],
   "source": [
    "metadata = dataset.metadata"
   ]
  },
  {
   "cell_type": "markdown",
   "id": "ignored-translator",
   "metadata": {},
   "source": [
    "See the first entries of the metadata."
   ]
  },
  {
   "cell_type": "code",
   "execution_count": null,
   "id": "renewable-watch",
   "metadata": {},
   "outputs": [],
   "source": [
    "dataset.metadata.head(3)"
   ]
  },
  {
   "cell_type": "code",
   "execution_count": null,
   "id": "detailed-armenia",
   "metadata": {},
   "outputs": [],
   "source": [
    "metadata['original_target'] = metadata.target"
   ]
  },
  {
   "cell_type": "code",
   "execution_count": null,
   "id": "graduate-communications",
   "metadata": {},
   "outputs": [],
   "source": [
    "ia_labels = [10]\n",
    "ibc_labels = [20, 21, 25, 26, 27]\n",
    "ii_labels = [30, 31, 32, 35, 36, 37]\n",
    "sl_labels = [40]\n",
    "bg_labels = [11]\n",
    "ax_labels = [12]"
   ]
  },
  {
   "cell_type": "code",
   "execution_count": null,
   "id": "gorgeous-current",
   "metadata": {},
   "outputs": [],
   "source": [
    "is_ia = np.isin(metadata.target, ia_labels) # 90\n",
    "is_ibc = np.isin(metadata.target, ibc_labels) # 62\n",
    "is_ii = np.isin(metadata.target, ii_labels) # 42\n",
    "is_sl = np.isin(metadata.target, sl_labels) # 95\n",
    "is_bg = np.isin(metadata.target, bg_labels) # 67\n",
    "is_ax = np.isin(metadata.target, ax_labels) # 52"
   ]
  },
  {
   "cell_type": "code",
   "execution_count": null,
   "id": "expressed-yield",
   "metadata": {},
   "outputs": [],
   "source": [
    "metadata['target'][is_ia] = 90\n",
    "metadata['target'][is_ibc] = 62\n",
    "metadata['target'][is_ii] = 42\n",
    "metadata['target'][is_sl] = 95\n",
    "metadata['target'][is_bg] = 67\n",
    "metadata['target'][is_ax] = 52"
   ]
  },
  {
   "cell_type": "code",
   "execution_count": null,
   "id": "educational-universe",
   "metadata": {},
   "outputs": [],
   "source": [
    "dataset.metadata = metadata"
   ]
  },
  {
   "cell_type": "markdown",
   "id": "billion-stylus",
   "metadata": {},
   "source": [
    "## 4. Save SnanaData instance<a name=\"save\"></a>\n",
    "\n",
    "Now, **choose** a path to save the `SnanaData` instance created (`folder_path_to_save`) and the name of the file (`file_name`)."
   ]
  },
  {
   "cell_type": "code",
   "execution_count": null,
   "id": "collected-therapy",
   "metadata": {},
   "outputs": [],
   "source": [
    "folder_path_to_save = folder_path\n",
    "if name == 'test' and extra_name_to_save == 'wfd':\n",
    "    file_name = f'{name}_{extra_name_to_save}_{file_id}.pckl'\n",
    "    print(file_name)\n",
    "else:\n",
    "    file_name = f'{name}_{extra_name_to_save}.pckl'"
   ]
  },
  {
   "cell_type": "code",
   "execution_count": null,
   "id": "celtic-fighter",
   "metadata": {},
   "outputs": [],
   "source": [
    "folder_path_to_save = folder_path\n",
    "file_name = f'{name}_{extra_name_to_save}_{file_id}.pckl'\n",
    "file_name"
   ]
  },
  {
   "cell_type": "markdown",
   "id": "funny-ordinance",
   "metadata": {},
   "source": [
    "Finally, save the `SnanaData` instance."
   ]
  },
  {
   "cell_type": "code",
   "execution_count": null,
   "id": "integral-prediction",
   "metadata": {},
   "outputs": [],
   "source": [
    "path_to_save = os.path.join(folder_path_to_save, file_name)\n",
    "print(f'File to save in {path_to_save}')"
   ]
  },
  {
   "cell_type": "code",
   "execution_count": null,
   "id": "accepting-target",
   "metadata": {},
   "outputs": [],
   "source": [
    "time_start_saving = time.time()\n",
    "with open(path_to_save, 'wb') as f:\n",
    "    pickle.dump(dataset, f, pickle.HIGHEST_PROTOCOL)\n",
    "a = time.time() - time_start_saving\n",
    "print(f'{time.time() - time_start_saving}s')"
   ]
  },
  {
   "cell_type": "markdown",
   "id": "pretty-reminder",
   "metadata": {},
   "source": [
    "### 4.1. Load SnanaData instance<a name=\"load\"></a> <font color=salmon>(Optional)</font>\n",
    "\n",
    "We can load the saved file to verify weather it was correctly saved."
   ]
  },
  {
   "cell_type": "code",
   "execution_count": null,
   "id": "verified-vessel",
   "metadata": {},
   "outputs": [],
   "source": [
    "time_start_saving = time.time()\n",
    "saved_dataset = load_dataset(path_to_save)\n",
    "print(f'{time.time() - time_start_saving}s')"
   ]
  },
  {
   "cell_type": "code",
   "execution_count": null,
   "id": "processed-silly",
   "metadata": {},
   "outputs": [],
   "source": [
    "metadata = saved_dataset.metadata"
   ]
  },
  {
   "cell_type": "markdown",
   "id": "underlying-attribute",
   "metadata": {},
   "source": [
    "As we can see, the metadata is the same."
   ]
  },
  {
   "cell_type": "code",
   "execution_count": null,
   "id": "generic-territory",
   "metadata": {},
   "outputs": [],
   "source": [
    "numerical_cols = ['hostgal_photoz', 'hostgal_photoz_err']"
   ]
  },
  {
   "cell_type": "code",
   "execution_count": null,
   "id": "affecting-membrane",
   "metadata": {},
   "outputs": [],
   "source": [
    "np.allclose(saved_dataset.metadata[numerical_cols], \n",
    "            dataset.metadata[numerical_cols])"
   ]
  },
  {
   "cell_type": "markdown",
   "id": "average-quantity",
   "metadata": {},
   "source": [
    "[Go back to top.](#index)"
   ]
  }
 ],
 "metadata": {
  "kernelspec": {
   "display_name": "Python 3",
   "language": "python",
   "name": "python3"
  },
  "language_info": {
   "codemirror_mode": {
    "name": "ipython",
    "version": 3
   },
   "file_extension": ".py",
   "mimetype": "text/x-python",
   "name": "python",
   "nbconvert_exporter": "python",
   "pygments_lexer": "ipython3",
   "version": "3.7.9"
  }
 },
 "nbformat": 4,
 "nbformat_minor": 5
}
